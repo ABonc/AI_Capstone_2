{
 "cells": [
  {
   "cell_type": "code",
   "execution_count": 1,
   "metadata": {},
   "outputs": [
    {
     "data": {
      "text/html": [
       "<div>\n",
       "<style scoped>\n",
       "    .dataframe tbody tr th:only-of-type {\n",
       "        vertical-align: middle;\n",
       "    }\n",
       "\n",
       "    .dataframe tbody tr th {\n",
       "        vertical-align: top;\n",
       "    }\n",
       "\n",
       "    .dataframe thead th {\n",
       "        text-align: right;\n",
       "    }\n",
       "</style>\n",
       "<table border=\"1\" class=\"dataframe\">\n",
       "  <thead>\n",
       "    <tr style=\"text-align: right;\">\n",
       "      <th></th>\n",
       "      <th>Name</th>\n",
       "      <th>Platform</th>\n",
       "      <th>Year_of_Release</th>\n",
       "      <th>Genre</th>\n",
       "      <th>Publisher</th>\n",
       "      <th>NA_Sales</th>\n",
       "      <th>EU_Sales</th>\n",
       "      <th>JP_Sales</th>\n",
       "      <th>Other_Sales</th>\n",
       "      <th>Global_Sales</th>\n",
       "      <th>Critic_Score</th>\n",
       "      <th>Critic_Count</th>\n",
       "      <th>User_Score</th>\n",
       "      <th>User_Count</th>\n",
       "      <th>Rating</th>\n",
       "    </tr>\n",
       "  </thead>\n",
       "  <tbody>\n",
       "    <tr>\n",
       "      <th>0</th>\n",
       "      <td>Wii Sports</td>\n",
       "      <td>Wii</td>\n",
       "      <td>2006.0</td>\n",
       "      <td>Sports</td>\n",
       "      <td>Nintendo</td>\n",
       "      <td>41.36</td>\n",
       "      <td>28.96</td>\n",
       "      <td>3.77</td>\n",
       "      <td>8.45</td>\n",
       "      <td>82.54</td>\n",
       "      <td>76.0</td>\n",
       "      <td>51.0</td>\n",
       "      <td>8.0</td>\n",
       "      <td>324.0</td>\n",
       "      <td>E</td>\n",
       "    </tr>\n",
       "    <tr>\n",
       "      <th>1</th>\n",
       "      <td>Super Mario Bros.</td>\n",
       "      <td>NES</td>\n",
       "      <td>1985.0</td>\n",
       "      <td>Platform</td>\n",
       "      <td>Nintendo</td>\n",
       "      <td>29.08</td>\n",
       "      <td>3.58</td>\n",
       "      <td>6.81</td>\n",
       "      <td>0.77</td>\n",
       "      <td>40.24</td>\n",
       "      <td>NaN</td>\n",
       "      <td>NaN</td>\n",
       "      <td>NaN</td>\n",
       "      <td>NaN</td>\n",
       "      <td>NaN</td>\n",
       "    </tr>\n",
       "    <tr>\n",
       "      <th>2</th>\n",
       "      <td>Mario Kart Wii</td>\n",
       "      <td>Wii</td>\n",
       "      <td>2008.0</td>\n",
       "      <td>Racing</td>\n",
       "      <td>Nintendo</td>\n",
       "      <td>15.68</td>\n",
       "      <td>12.80</td>\n",
       "      <td>3.79</td>\n",
       "      <td>3.29</td>\n",
       "      <td>35.57</td>\n",
       "      <td>82.0</td>\n",
       "      <td>73.0</td>\n",
       "      <td>8.3</td>\n",
       "      <td>712.0</td>\n",
       "      <td>E</td>\n",
       "    </tr>\n",
       "    <tr>\n",
       "      <th>3</th>\n",
       "      <td>Wii Sports Resort</td>\n",
       "      <td>Wii</td>\n",
       "      <td>2009.0</td>\n",
       "      <td>Sports</td>\n",
       "      <td>Nintendo</td>\n",
       "      <td>15.61</td>\n",
       "      <td>10.95</td>\n",
       "      <td>3.28</td>\n",
       "      <td>2.95</td>\n",
       "      <td>32.78</td>\n",
       "      <td>80.0</td>\n",
       "      <td>73.0</td>\n",
       "      <td>8.0</td>\n",
       "      <td>193.0</td>\n",
       "      <td>E</td>\n",
       "    </tr>\n",
       "    <tr>\n",
       "      <th>4</th>\n",
       "      <td>Pokemon Red/Pokemon Blue</td>\n",
       "      <td>G</td>\n",
       "      <td>1996.0</td>\n",
       "      <td>Role-Playing</td>\n",
       "      <td>Nintendo</td>\n",
       "      <td>11.27</td>\n",
       "      <td>8.89</td>\n",
       "      <td>10.22</td>\n",
       "      <td>1.00</td>\n",
       "      <td>31.37</td>\n",
       "      <td>NaN</td>\n",
       "      <td>NaN</td>\n",
       "      <td>NaN</td>\n",
       "      <td>NaN</td>\n",
       "      <td>NaN</td>\n",
       "    </tr>\n",
       "  </tbody>\n",
       "</table>\n",
       "</div>"
      ],
      "text/plain": [
       "                       Name Platform  Year_of_Release         Genre Publisher  \\\n",
       "0                Wii Sports      Wii           2006.0        Sports  Nintendo   \n",
       "1         Super Mario Bros.      NES           1985.0      Platform  Nintendo   \n",
       "2            Mario Kart Wii      Wii           2008.0        Racing  Nintendo   \n",
       "3         Wii Sports Resort      Wii           2009.0        Sports  Nintendo   \n",
       "4  Pokemon Red/Pokemon Blue        G           1996.0  Role-Playing  Nintendo   \n",
       "\n",
       "   NA_Sales  EU_Sales  JP_Sales  Other_Sales  Global_Sales  Critic_Score  \\\n",
       "0     41.36     28.96      3.77         8.45         82.54          76.0   \n",
       "1     29.08      3.58      6.81         0.77         40.24           NaN   \n",
       "2     15.68     12.80      3.79         3.29         35.57          82.0   \n",
       "3     15.61     10.95      3.28         2.95         32.78          80.0   \n",
       "4     11.27      8.89     10.22         1.00         31.37           NaN   \n",
       "\n",
       "   Critic_Count  User_Score  User_Count Rating  \n",
       "0          51.0         8.0       324.0      E  \n",
       "1           NaN         NaN         NaN    NaN  \n",
       "2          73.0         8.3       712.0      E  \n",
       "3          73.0         8.0       193.0      E  \n",
       "4           NaN         NaN         NaN    NaN  "
      ]
     },
     "execution_count": 1,
     "metadata": {},
     "output_type": "execute_result"
    }
   ],
   "source": [
    "%matplotlib inline\n",
    "\n",
    "import pandas as pd\n",
    "import numpy as np\n",
    "import matplotlib.pyplot as plt\n",
    "import seaborn as sns\n",
    "from sklearn import linear_model\n",
    "from sklearn.model_selection import train_test_split\n",
    "from sklearn.tree import DecisionTreeRegressor \n",
    "from sklearn.ensemble import RandomForestRegressor\n",
    "from sklearn.metrics import mean_squared_error,mean_absolute_error\n",
    "from sklearn.preprocessing import OneHotEncoder\n",
    "from sklearn import tree\n",
    "\n",
    "\n",
    "\n",
    "plt.style.use('seaborn')\n",
    "np.random.seed(124)\n",
    "\n",
    "dataset = pd.read_csv('Video_Game_Sales_as_of_Jan_2017.csv')\n",
    "\n",
    "dataset.head()\n",
    "\n",
    "#eda plots\n",
    "#means for genre pd.get_dummies\n",
    "#build tree\n",
    "#get prediction\n",
    "#check mean-squared error\n",
    "#building random forest\n",
    "#check predictions\n",
    "#calculate error\n",
    "#retrieve feature importances from random forest\n",
    "#genre, YoR, platform, publisher "
   ]
  },
  {
   "cell_type": "code",
   "execution_count": 2,
   "metadata": {},
   "outputs": [
    {
     "name": "stdout",
     "output_type": "stream",
     "text": [
      "<class 'pandas.core.frame.DataFrame'>\n",
      "RangeIndex: 17416 entries, 0 to 17415\n",
      "Data columns (total 15 columns):\n",
      " #   Column           Non-Null Count  Dtype  \n",
      "---  ------           --------------  -----  \n",
      " 0   Name             17416 non-null  object \n",
      " 1   Platform         17416 non-null  object \n",
      " 2   Year_of_Release  17408 non-null  float64\n",
      " 3   Genre            17416 non-null  object \n",
      " 4   Publisher        17415 non-null  object \n",
      " 5   NA_Sales         17416 non-null  float64\n",
      " 6   EU_Sales         17416 non-null  float64\n",
      " 7   JP_Sales         17416 non-null  float64\n",
      " 8   Other_Sales      17416 non-null  float64\n",
      " 9   Global_Sales     17416 non-null  float64\n",
      " 10  Critic_Score     8336 non-null   float64\n",
      " 11  Critic_Count     8336 non-null   float64\n",
      " 12  User_Score       7798 non-null   float64\n",
      " 13  User_Count       7798 non-null   float64\n",
      " 14  Rating           10252 non-null  object \n",
      "dtypes: float64(10), object(5)\n",
      "memory usage: 2.0+ MB\n"
     ]
    }
   ],
   "source": [
    "dataset.info()"
   ]
  },
  {
   "cell_type": "code",
   "execution_count": 3,
   "metadata": {},
   "outputs": [
    {
     "data": {
      "text/html": [
       "<div>\n",
       "<style scoped>\n",
       "    .dataframe tbody tr th:only-of-type {\n",
       "        vertical-align: middle;\n",
       "    }\n",
       "\n",
       "    .dataframe tbody tr th {\n",
       "        vertical-align: top;\n",
       "    }\n",
       "\n",
       "    .dataframe thead th {\n",
       "        text-align: right;\n",
       "    }\n",
       "</style>\n",
       "<table border=\"1\" class=\"dataframe\">\n",
       "  <thead>\n",
       "    <tr style=\"text-align: right;\">\n",
       "      <th></th>\n",
       "      <th>Name</th>\n",
       "      <th>Platform</th>\n",
       "      <th>Year_of_Release</th>\n",
       "      <th>Genre</th>\n",
       "      <th>Publisher</th>\n",
       "      <th>Global_Sales</th>\n",
       "    </tr>\n",
       "  </thead>\n",
       "  <tbody>\n",
       "    <tr>\n",
       "      <th>0</th>\n",
       "      <td>Wii Sports</td>\n",
       "      <td>Wii</td>\n",
       "      <td>2006.0</td>\n",
       "      <td>Sports</td>\n",
       "      <td>Nintendo</td>\n",
       "      <td>82.54</td>\n",
       "    </tr>\n",
       "    <tr>\n",
       "      <th>1</th>\n",
       "      <td>Super Mario Bros.</td>\n",
       "      <td>NES</td>\n",
       "      <td>1985.0</td>\n",
       "      <td>Platform</td>\n",
       "      <td>Nintendo</td>\n",
       "      <td>40.24</td>\n",
       "    </tr>\n",
       "    <tr>\n",
       "      <th>2</th>\n",
       "      <td>Mario Kart Wii</td>\n",
       "      <td>Wii</td>\n",
       "      <td>2008.0</td>\n",
       "      <td>Racing</td>\n",
       "      <td>Nintendo</td>\n",
       "      <td>35.57</td>\n",
       "    </tr>\n",
       "    <tr>\n",
       "      <th>3</th>\n",
       "      <td>Wii Sports Resort</td>\n",
       "      <td>Wii</td>\n",
       "      <td>2009.0</td>\n",
       "      <td>Sports</td>\n",
       "      <td>Nintendo</td>\n",
       "      <td>32.78</td>\n",
       "    </tr>\n",
       "    <tr>\n",
       "      <th>4</th>\n",
       "      <td>Pokemon Red/Pokemon Blue</td>\n",
       "      <td>G</td>\n",
       "      <td>1996.0</td>\n",
       "      <td>Role-Playing</td>\n",
       "      <td>Nintendo</td>\n",
       "      <td>31.37</td>\n",
       "    </tr>\n",
       "  </tbody>\n",
       "</table>\n",
       "</div>"
      ],
      "text/plain": [
       "                       Name Platform  Year_of_Release         Genre Publisher  \\\n",
       "0                Wii Sports      Wii           2006.0        Sports  Nintendo   \n",
       "1         Super Mario Bros.      NES           1985.0      Platform  Nintendo   \n",
       "2            Mario Kart Wii      Wii           2008.0        Racing  Nintendo   \n",
       "3         Wii Sports Resort      Wii           2009.0        Sports  Nintendo   \n",
       "4  Pokemon Red/Pokemon Blue        G           1996.0  Role-Playing  Nintendo   \n",
       "\n",
       "   Global_Sales  \n",
       "0         82.54  \n",
       "1         40.24  \n",
       "2         35.57  \n",
       "3         32.78  \n",
       "4         31.37  "
      ]
     },
     "execution_count": 3,
     "metadata": {},
     "output_type": "execute_result"
    }
   ],
   "source": [
    "#cleaning and sorting data\n",
    "    \n",
    "dataset = dataset.drop(['NA_Sales','EU_Sales','JP_Sales','Other_Sales','Critic_Score','Critic_Count','User_Score','User_Count','Rating'], axis=1)\n",
    "dataset.head()"
   ]
  },
  {
   "cell_type": "code",
   "execution_count": 4,
   "metadata": {},
   "outputs": [],
   "source": [
    "#Wii Sports is an outlier, only on one platform\n",
    "\n",
    "#dataset.sort_values('Global_Sales',ascending=False)\n"
   ]
  },
  {
   "cell_type": "code",
   "execution_count": 5,
   "metadata": {},
   "outputs": [
    {
     "data": {
      "text/plain": [
       "Name               0\n",
       "Platform           0\n",
       "Year_of_Release    8\n",
       "Genre              0\n",
       "Publisher          1\n",
       "Global_Sales       0\n",
       "dtype: int64"
      ]
     },
     "execution_count": 5,
     "metadata": {},
     "output_type": "execute_result"
    }
   ],
   "source": [
    "dataset.isna().sum()"
   ]
  },
  {
   "cell_type": "code",
   "execution_count": 6,
   "metadata": {},
   "outputs": [],
   "source": [
    "dataset.dropna(axis=0,inplace=True)"
   ]
  },
  {
   "cell_type": "code",
   "execution_count": 7,
   "metadata": {},
   "outputs": [
    {
     "data": {
      "text/plain": [
       "Name               0\n",
       "Platform           0\n",
       "Year_of_Release    0\n",
       "Genre              0\n",
       "Publisher          0\n",
       "Global_Sales       0\n",
       "dtype: int64"
      ]
     },
     "execution_count": 7,
     "metadata": {},
     "output_type": "execute_result"
    }
   ],
   "source": [
    "dataset.isna().sum()"
   ]
  },
  {
   "cell_type": "code",
   "execution_count": 8,
   "metadata": {},
   "outputs": [
    {
     "data": {
      "text/plain": [
       "<AxesSubplot:xlabel='Global_Sales'>"
      ]
     },
     "execution_count": 8,
     "metadata": {},
     "output_type": "execute_result"
    },
    {
     "data": {
      "image/png": "[encoded data removed]",
      "text/plain": [
       "<Figure size 576x396 with 1 Axes>"
      ]
     },
     "metadata": {},
     "output_type": "display_data"
    }
   ],
   "source": [
    "#detect outliers\n",
    "#wii sports is the outlier\n",
    "sns.boxplot(x = dataset['Global_Sales'])"
   ]
  },
  {
   "cell_type": "code",
   "execution_count": 9,
   "metadata": {},
   "outputs": [
    {
     "data": {
      "text/plain": [
       "<AxesSubplot:xlabel='Year_of_Release'>"
      ]
     },
     "execution_count": 9,
     "metadata": {},
     "output_type": "execute_result"
    },
    {
     "data": {
      "image/png": "[encoded data removed]",
      "text/plain": [
       "<Figure size 576x396 with 1 Axes>"
      ]
     },
     "metadata": {},
     "output_type": "display_data"
    }
   ],
   "source": [
    "sns.boxplot(x=dataset['Year_of_Release'])"
   ]
  },
  {
   "cell_type": "code",
   "execution_count": 10,
   "metadata": {},
   "outputs": [
    {
     "data": {
      "text/plain": [
       "<AxesSubplot:xlabel='Year_of_Release', ylabel='Global_Sales'>"
      ]
     },
     "execution_count": 10,
     "metadata": {},
     "output_type": "execute_result"
    },
    {
     "data": {
      "image/png": "[encoded data removed]",
      "text/plain": [
       "<Figure size 576x396 with 1 Axes>"
      ]
     },
     "metadata": {},
     "output_type": "display_data"
    }
   ],
   "source": [
    "sns.scatterplot(x='Year_of_Release',y='Global_Sales', data=dataset)"
   ]
  },
  {
   "cell_type": "code",
   "execution_count": 11,
   "metadata": {},
   "outputs": [
    {
     "data": {
      "text/plain": [
       "<AxesSubplot:xlabel='Global_Sales', ylabel='Genre'>"
      ]
     },
     "execution_count": 11,
     "metadata": {},
     "output_type": "execute_result"
    },
    {
     "data": {
      "image/png": "[encoded data removed]",
      "text/plain": [
       "<Figure size 576x396 with 1 Axes>"
      ]
     },
     "metadata": {},
     "output_type": "display_data"
    }
   ],
   "source": [
    "sns.barplot(y='Genre',x='Global_Sales',data=dataset)"
   ]
  },
  {
   "cell_type": "code",
   "execution_count": 12,
   "metadata": {},
   "outputs": [
    {
     "data": {
      "text/plain": [
       "<AxesSubplot:xlabel='Global_Sales', ylabel='Platform'>"
      ]
     },
     "execution_count": 12,
     "metadata": {},
     "output_type": "execute_result"
    },
    {
     "data": {
      "image/png": "[encoded data removed]",
      "text/plain": [
       "<Figure size 576x396 with 1 Axes>"
      ]
     },
     "metadata": {},
     "output_type": "display_data"
    }
   ],
   "source": [
    "sns.barplot(y='Platform',x='Global_Sales',data=dataset)"
   ]
  },
  {
   "cell_type": "code",
   "execution_count": null,
   "metadata": {},
   "outputs": [],
   "source": []
  },
  {
   "cell_type": "markdown",
   "metadata": {},
   "source": [
    "## Preproscessing the data"
   ]
  },
  {
   "cell_type": "code",
   "execution_count": 13,
   "metadata": {},
   "outputs": [],
   "source": [
    "#pd.get_dummies(dataset['Genre'])\n",
    "    \n",
    "#dataset['Genre1'] = pd.factorize(dataset['Genre'])[0]\n",
    "#dataset.head()"
   ]
  },
  {
   "cell_type": "code",
   "execution_count": 14,
   "metadata": {},
   "outputs": [],
   "source": [
    "Genre_dummies=pd.get_dummies(dataset['Genre'])\n",
    "Platform_dummies = pd.get_dummies(dataset['Platform'])\n"
   ]
  },
  {
   "cell_type": "code",
   "execution_count": 15,
   "metadata": {},
   "outputs": [
    {
     "data": {
      "text/plain": [
       "627"
      ]
     },
     "execution_count": 15,
     "metadata": {},
     "output_type": "execute_result"
    }
   ],
   "source": [
    "dataset.Publisher.nunique()"
   ]
  },
  {
   "cell_type": "code",
   "execution_count": 16,
   "metadata": {},
   "outputs": [],
   "source": [
    "dataset=dataset.drop(columns=['Name','Platform','Publisher','Genre'])\n",
    "dataset=pd.concat([dataset,Genre_dummies,Platform_dummies],axis=1)"
   ]
  },
  {
   "cell_type": "code",
   "execution_count": 17,
   "metadata": {},
   "outputs": [
    {
     "name": "stdout",
     "output_type": "stream",
     "text": [
      "<class 'pandas.core.frame.DataFrame'>\n",
      "Int64Index: 17408 entries, 0 to 17415\n",
      "Data columns (total 45 columns):\n",
      " #   Column           Non-Null Count  Dtype  \n",
      "---  ------           --------------  -----  \n",
      " 0   Year_of_Release  17408 non-null  float64\n",
      " 1   Global_Sales     17408 non-null  float64\n",
      " 2   Action           17408 non-null  uint8  \n",
      " 3   Adventure        17408 non-null  uint8  \n",
      " 4   Fighting         17408 non-null  uint8  \n",
      " 5   Misc             17408 non-null  uint8  \n",
      " 6   Platform         17408 non-null  uint8  \n",
      " 7   Puzzle           17408 non-null  uint8  \n",
      " 8   Racing           17408 non-null  uint8  \n",
      " 9   Role-Playing     17408 non-null  uint8  \n",
      " 10  Shooter          17408 non-null  uint8  \n",
      " 11  Simulation       17408 non-null  uint8  \n",
      " 12  Sports           17408 non-null  uint8  \n",
      " 13  Strategy         17408 non-null  uint8  \n",
      " 14  2600             17408 non-null  uint8  \n",
      " 15  3DO              17408 non-null  uint8  \n",
      " 16  3DS              17408 non-null  uint8  \n",
      " 17  DC               17408 non-null  uint8  \n",
      " 18  DS               17408 non-null  uint8  \n",
      " 19  G                17408 non-null  uint8  \n",
      " 20  GBA              17408 non-null  uint8  \n",
      " 21  GC               17408 non-null  uint8  \n",
      " 22  GEN              17408 non-null  uint8  \n",
      " 23  GG               17408 non-null  uint8  \n",
      " 24  N64              17408 non-null  uint8  \n",
      " 25  NES              17408 non-null  uint8  \n",
      " 26  NG               17408 non-null  uint8  \n",
      " 27  PC               17408 non-null  uint8  \n",
      " 28  PCFX             17408 non-null  uint8  \n",
      " 29  PS               17408 non-null  uint8  \n",
      " 30  PS2              17408 non-null  uint8  \n",
      " 31  PS3              17408 non-null  uint8  \n",
      " 32  PS4              17408 non-null  uint8  \n",
      " 33  PSP              17408 non-null  uint8  \n",
      " 34  PSV              17408 non-null  uint8  \n",
      " 35  SAT              17408 non-null  uint8  \n",
      " 36  SCD              17408 non-null  uint8  \n",
      " 37  SNES             17408 non-null  uint8  \n",
      " 38  TG16             17408 non-null  uint8  \n",
      " 39  WS               17408 non-null  uint8  \n",
      " 40  Wii              17408 non-null  uint8  \n",
      " 41  WiiU             17408 non-null  uint8  \n",
      " 42  X                17408 non-null  uint8  \n",
      " 43  X360             17408 non-null  uint8  \n",
      " 44  XOne             17408 non-null  uint8  \n",
      "dtypes: float64(2), uint8(43)\n",
      "memory usage: 1.7 MB\n"
     ]
    }
   ],
   "source": [
    "dataset.info()"
   ]
  },
  {
   "cell_type": "code",
   "execution_count": 18,
   "metadata": {},
   "outputs": [],
   "source": [
    "    \n",
    "#dataset['Publisher1'] = pd.factorize(dataset['Publisher'])[0]\n",
    "#dataset.head()"
   ]
  },
  {
   "cell_type": "code",
   "execution_count": 19,
   "metadata": {},
   "outputs": [
    {
     "name": "stdout",
     "output_type": "stream",
     "text": [
      "Year_of_Release    8.0\n",
      "Global_Sales       0.4\n",
      "Action             0.0\n",
      "Adventure          0.0\n",
      "Fighting           0.0\n",
      "Misc               0.0\n",
      "Platform           0.0\n",
      "Puzzle             0.0\n",
      "Racing             0.0\n",
      "Role-Playing       0.0\n",
      "Shooter            0.0\n",
      "Simulation         0.0\n",
      "Sports             0.0\n",
      "Strategy           0.0\n",
      "2600               0.0\n",
      "3DO                0.0\n",
      "3DS                0.0\n",
      "DC                 0.0\n",
      "DS                 0.0\n",
      "G                  0.0\n",
      "GBA                0.0\n",
      "GC                 0.0\n",
      "GEN                0.0\n",
      "GG                 0.0\n",
      "N64                0.0\n",
      "NES                0.0\n",
      "NG                 0.0\n",
      "PC                 0.0\n",
      "PCFX               0.0\n",
      "PS                 0.0\n",
      "PS2                0.0\n",
      "PS3                0.0\n",
      "PS4                0.0\n",
      "PSP                0.0\n",
      "PSV                0.0\n",
      "SAT                0.0\n",
      "SCD                0.0\n",
      "SNES               0.0\n",
      "TG16               0.0\n",
      "WS                 0.0\n",
      "Wii                0.0\n",
      "WiiU               0.0\n",
      "X                  0.0\n",
      "X360               0.0\n",
      "XOne               0.0\n",
      "dtype: float64\n"
     ]
    }
   ],
   "source": [
    "Q1 = dataset.quantile(0.25)\n",
    "Q3 = dataset.quantile(0.75)\n",
    "IQR = Q3 - Q1\n",
    "print(IQR)"
   ]
  },
  {
   "cell_type": "code",
   "execution_count": 20,
   "metadata": {},
   "outputs": [],
   "source": [
    "X = dataset.drop(columns=['Global_Sales'])\n",
    "y = dataset['Global_Sales']\n"
   ]
  },
  {
   "cell_type": "code",
   "execution_count": 21,
   "metadata": {},
   "outputs": [],
   "source": [
    "#train test split\n",
    "\n",
    "X_train, X_test, y_train, y_test = train_test_split(X, y, test_size = 0.3, random_state = 42)"
   ]
  },
  {
   "cell_type": "code",
   "execution_count": 22,
   "metadata": {},
   "outputs": [
    {
     "data": {
      "text/plain": [
       "10777    0.10\n",
       "2026     1.03\n",
       "2025     1.03\n",
       "101      7.42\n",
       "11782    0.08\n",
       "         ... \n",
       "15403    0.02\n",
       "11665    0.08\n",
       "7248     0.22\n",
       "13042    0.05\n",
       "4341     0.45\n",
       "Name: Global_Sales, Length: 5223, dtype: float64"
      ]
     },
     "execution_count": 22,
     "metadata": {},
     "output_type": "execute_result"
    }
   ],
   "source": [
    "y_test"
   ]
  },
  {
   "cell_type": "code",
   "execution_count": 23,
   "metadata": {},
   "outputs": [
    {
     "data": {
      "text/plain": [
       "DecisionTreeRegressor(random_state=42)"
      ]
     },
     "execution_count": 23,
     "metadata": {},
     "output_type": "execute_result"
    }
   ],
   "source": [
    "dr= DecisionTreeRegressor(random_state=42)\n",
    "dr.fit(X_train,y_train)"
   ]
  },
  {
   "cell_type": "code",
   "execution_count": 24,
   "metadata": {},
   "outputs": [],
   "source": [
    "y_pred_test=dr.predict(X_test)\n",
    "y_pred_train=dr.predict(X_train)"
   ]
  },
  {
   "cell_type": "code",
   "execution_count": 25,
   "metadata": {},
   "outputs": [
    {
     "name": "stdout",
     "output_type": "stream",
     "text": [
      "Error Metrics\n",
      "Training Errors\n",
      "Train MAE: 0.4583935681192621\n",
      "Train RMSE: 1.18892849402293\n",
      "-------------------------\n",
      "Test MAE: 0.576238897283706\n",
      "Test RMSE: 1.8726794126762827\n"
     ]
    }
   ],
   "source": [
    "print(\"Error Metrics\")\n",
    "print(\"Training Errors\")\n",
    "print(\"Train MAE:\", mean_absolute_error(y_train, y_pred_train))\n",
    "print(\"Train RMSE:\", mean_squared_error(y_train, y_pred_train, squared=False))\n",
    "print(\"-------------------------\")\n",
    "print(\"Test MAE:\", mean_absolute_error(y_test, y_pred_test))\n",
    "print(\"Test RMSE:\", mean_squared_error(y_test, y_pred_test, squared=False))"
   ]
  },
  {
   "cell_type": "code",
   "execution_count": 26,
   "metadata": {},
   "outputs": [
    {
     "data": {
      "text/plain": [
       "<AxesSubplot:>"
      ]
     },
     "execution_count": 26,
     "metadata": {},
     "output_type": "execute_result"
    },
    {
     "data": {
      "image/png": "[encoded data removed]",
      "text/plain": [
       "<Figure size 576x396 with 1 Axes>"
      ]
     },
     "metadata": {},
     "output_type": "display_data"
    }
   ],
   "source": [
    "import seaborn as sns\n",
    "sns.barplot(x = dr.feature_importances_, y = X_train.columns)"
   ]
  },
  {
   "cell_type": "code",
   "execution_count": 27,
   "metadata": {},
   "outputs": [],
   "source": [
    "# Fitting Random Forest Regression to the Training set\n",
    "from sklearn.ensemble import RandomForestRegressor\n",
    "regressor = RandomForestRegressor(random_state=42)"
   ]
  },
  {
   "cell_type": "code",
   "execution_count": 28,
   "metadata": {},
   "outputs": [
    {
     "data": {
      "text/plain": [
       "RandomForestRegressor(random_state=42)"
      ]
     },
     "execution_count": 28,
     "metadata": {},
     "output_type": "execute_result"
    }
   ],
   "source": [
    "regressor.fit(X_train, y_train)\n"
   ]
  },
  {
   "cell_type": "code",
   "execution_count": 29,
   "metadata": {},
   "outputs": [],
   "source": [
    "y_pred_test=regressor.predict(X_test)\n",
    "y_pred_train=regressor.predict(X_train)"
   ]
  },
  {
   "cell_type": "code",
   "execution_count": 30,
   "metadata": {},
   "outputs": [
    {
     "name": "stdout",
     "output_type": "stream",
     "text": [
      "Error Metrics\n",
      "Training Errors\n",
      "Train MAE: 0.4707085782727394\n",
      "Train RMSE: 1.199126716506181\n",
      "-------------------------\n",
      "Test MAE: 0.5729908905646565\n",
      "Test RMSE: 1.8544686947759788\n"
     ]
    }
   ],
   "source": [
    "print(\"Error Metrics\")\n",
    "print(\"Training Errors\")\n",
    "print(\"Train MAE:\", mean_absolute_error(y_train, y_pred_train))\n",
    "print(\"Train RMSE:\", mean_squared_error(y_train, y_pred_train, squared=False))\n",
    "print(\"-------------------------\")\n",
    "print(\"Test MAE:\", mean_absolute_error(y_test, y_pred_test))\n",
    "print(\"Test RMSE:\", mean_squared_error(y_test, y_pred_test, squared=False))"
   ]
  },
  {
   "cell_type": "code",
   "execution_count": 32,
   "metadata": {},
   "outputs": [
    {
     "data": {
      "text/plain": [
       "<AxesSubplot:>"
      ]
     },
     "execution_count": 32,
     "metadata": {},
     "output_type": "execute_result"
    },
    {
     "data": {
      "image/png": "[encoded data removed]",
      "text/plain": [
       "<Figure size 720x576 with 1 Axes>"
      ]
     },
     "metadata": {},
     "output_type": "display_data"
    }
   ],
   "source": [
    "import seaborn as sns\n",
    "plt.figure(figsize=(10,8))\n",
    "sns.barplot(x = regressor.feature_importances_, y = X_train.columns)"
   ]
  },
  {
   "cell_type": "code",
   "execution_count": 515,
   "metadata": {},
   "outputs": [],
   "source": [
    "#train test split part 2 because i organized this poorly\n",
    "\n",
    "X_train, X_test, y_train, y_test = train_test_split(X, y, test_size = 0.3, random_state = 42)"
   ]
  },
  {
   "cell_type": "code",
   "execution_count": 516,
   "metadata": {},
   "outputs": [
    {
     "name": "stdout",
     "output_type": "stream",
     "text": [
      "Mean Absolute Error: 0.5151139872964101\n",
      "Mean Squared Error: 3.2507707161151216\n",
      "Root Mean Squared Error: 1.802989383250806\n"
     ]
    }
   ],
   "source": [
    "# Evaluating the Algorithm\n",
    "#tested model to find lowest mean squared error\n",
    "\n",
    "from sklearn import metrics\n",
    "print('Mean Absolute Error:', metrics.mean_absolute_error(y_test, y_pred))  \n",
    "print('Mean Squared Error:', metrics.mean_squared_error(y_test, y_pred))  \n",
    "print('Root Mean Squared Error:', np.sqrt(metrics.mean_squared_error(y_test, y_pred)))"
   ]
  },
  {
   "cell_type": "code",
   "execution_count": null,
   "metadata": {},
   "outputs": [],
   "source": [
    "#predict\n",
    "y_pred = regressor.predict(X_test.reshape(-1,3))\n",
    "y_pred"
   ]
  },
  {
   "cell_type": "code",
   "execution_count": null,
   "metadata": {},
   "outputs": [],
   "source": [
    "#remove NaN data from Year of Release\n",
    "dataset = dataset[dataset.Year_of_Release.notnull()]\n",
    "\n",
    "#Omitting video games released in 2017.\n",
    "dataset = dataset.loc[dataset.Year_of_Release < 2017]\n",
    "\n",
    "#Converting year of release to integers\n",
    "dataset.Year_of_Release = dataset['Year_of_Release'].astype(int)"
   ]
  },
  {
   "cell_type": "code",
   "execution_count": null,
   "metadata": {},
   "outputs": [],
   "source": [
    "#summary\n",
    "dataset.info()\n"
   ]
  },
  {
   "cell_type": "code",
   "execution_count": null,
   "metadata": {},
   "outputs": [],
   "source": [
    "#explore genre variable\n",
    "dataset['Genre'].value_counts()"
   ]
  },
  {
   "cell_type": "code",
   "execution_count": null,
   "metadata": {},
   "outputs": [],
   "source": []
  },
  {
   "cell_type": "code",
   "execution_count": null,
   "metadata": {},
   "outputs": [],
   "source": []
  },
  {
   "cell_type": "code",
   "execution_count": null,
   "metadata": {},
   "outputs": [],
   "source": []
  },
  {
   "cell_type": "code",
   "execution_count": null,
   "metadata": {},
   "outputs": [],
   "source": []
  },
  {
   "cell_type": "code",
   "execution_count": null,
   "metadata": {},
   "outputs": [],
   "source": []
  },
  {
   "cell_type": "code",
   "execution_count": null,
   "metadata": {},
   "outputs": [],
   "source": [
    "data = pd.read_csv('Video_Game_Sales_as_of_Jan_2017.csv')"
   ]
  },
  {
   "cell_type": "code",
   "execution_count": null,
   "metadata": {},
   "outputs": [],
   "source": [
    "#pulling only the data from 1991 to 2016\n",
    "data = data.loc[data.Year_of_Release >= 1991]\n",
    "\n",
    "#finding the median sales value by genre and year\n",
    "Med_Sales_by_Gen_and_Yr = pd.pivot_table(data,index=['Year_of_Release'],\n",
    "                     columns=['Genre'],values=['Global_Sales'],aggfunc=np.median)\n",
    "Med_Sales_by_Gen_and_Yr.columns = Med_Sales_by_Gen_and_Yr.columns.get_level_values(1)\n",
    "\n",
    "Med_Sales_by_Gen_and_Yr.head()"
   ]
  },
  {
   "cell_type": "code",
   "execution_count": null,
   "metadata": {},
   "outputs": [],
   "source": [
    "def Linear_Regression_Plot(Data):\n",
    "    Regr_Coeff = []\n",
    "    Regr_MSE = []\n",
    "    fig, axes = plt.subplots(nrows=4, ncols=3, figsize=(10,12))\n",
    "\n",
    "    x_data = np.transpose(np.matrix(Data.index))\n",
    "\n",
    "    count = 0\n",
    "    \n",
    "    for genre in Data.columns:\n",
    "        axs = axes[count//3,count%3]\n",
    "        y_data = Data[genre].to_frame()\n",
    "    \n",
    "        # Linear regression\n",
    "        regr = linear_model.LinearRegression()\n",
    "        regr.fit(x_data,y_data)\n",
    "        \n",
    "        # Mean Squared Error\n",
    "        MSE = np.mean((regr.predict(x_data)-y_data)**2)\n",
    "        \n",
    "        Regr_Coeff.append(regr.coef_[0][0])\n",
    "        Regr_MSE.append(MSE[0])\n",
    "\n",
    "        Data[genre].plot(ax=axs)\n",
    "        axs.plot(x_data,regr.predict(x_data), color='black')\n",
    "\n",
    "        y_lims = axs.get_ylim()\n",
    "        \n",
    "        \n",
    "        txt = 'Coeff: %.3f \\nMSE: %.3f' % (regr.coef_,MSE)\n",
    "        y_loc = 0.85*(y_lims[1]-y_lims[0])+y_lims[0]\n",
    "        axs.text(2007,y_loc,txt)\n",
    "\n",
    "        axs.set_title(genre)\n",
    "        axs.set_xlabel('Year')\n",
    "        axs.set_ylabel('Median')\n",
    "        count+=1\n",
    "    fig.tight_layout()\n",
    "    \n",
    "    return [Regr_Coeff,Regr_MSE]\n",
    "    \n",
    "[Regr_Coeff,Regr_MSE] = Linear_Regression_Plot(Med_Sales_by_Gen_and_Yr)"
   ]
  },
  {
   "cell_type": "code",
   "execution_count": null,
   "metadata": {},
   "outputs": [],
   "source": [
    "#1991-2016 line graph slopes for popularity in each genre\n",
    "def Linear_Regression_Plot(Data):\n",
    "    Regr_Coeff = []\n",
    "    Regr_MSE = []\n",
    "    fig, axes = plt.subplots(nrows=4, ncols=3, figsize=(10,12))\n",
    "\n",
    "    x_data = np.transpose(np.matrix(Data.index))\n",
    "\n",
    "    count = 0\n",
    "    \n",
    "    for genre in Data.columns:\n",
    "        axs = axes[count//3,count%3]\n",
    "        y_data = Data[genre].to_frame()\n",
    "    \n",
    "        #linear regression\n",
    "        regr = linear_model.LinearRegression()\n",
    "        regr.fit(x_data,y_data)\n",
    "        \n",
    "        #mean Squared Error\n",
    "        MSE = np.mean((regr.predict(x_data)-y_data)**2)\n",
    "        \n",
    "        Regr_Coeff.append(regr.coef_[0][0])\n",
    "        Regr_MSE.append(MSE[0])\n",
    "\n",
    "        Data[genre].plot(ax=axs)\n",
    "        axs.plot(x_data,regr.predict(x_data), color='black')\n",
    "\n",
    "        y_lims = axs.get_ylim()\n",
    "        \n",
    "        \n",
    "        txt = 'Coeff: %.3f \\nMSE: %.3f' % (regr.coef_,MSE)\n",
    "        y_loc = 0.85*(y_lims[1]-y_lims[0])+y_lims[0]\n",
    "        axs.text(2007,y_loc,txt)\n",
    "\n",
    "        axs.set_title(genre)\n",
    "        axs.set_xlabel('Year')\n",
    "        axs.set_ylabel('Median')\n",
    "        count+=1\n",
    "    fig.tight_layout()\n",
    "    \n",
    "    return [Regr_Coeff,Regr_MSE]\n",
    "    \n",
    "[Regr_Coeff,Regr_MSE] = Linear_Regression_Plot(Med_Sales_by_Gen_and_Yr)"
   ]
  },
  {
   "cell_type": "code",
   "execution_count": null,
   "metadata": {},
   "outputs": [],
   "source": [
    "#missin values?\n",
    "dataset.isnull().sum()"
   ]
  },
  {
   "cell_type": "code",
   "execution_count": null,
   "metadata": {},
   "outputs": [],
   "source": []
  },
  {
   "cell_type": "code",
   "execution_count": null,
   "metadata": {},
   "outputs": [],
   "source": [
    "#same thing but for 1995-2016 bc so many outliers and skew\n",
    "\n",
    "Med_Sales_by_Gen_and_Yr = Med_Sales_by_Gen_and_Yr.loc[Med_Sales_by_Gen_and_Yr.index >= 1995]\n",
    "\n",
    "[Regr_Coeff_After_95,Regr_MSE_After_95] = Linear_Regression_Plot(Med_Sales_by_Gen_and_Yr)"
   ]
  },
  {
   "cell_type": "code",
   "execution_count": null,
   "metadata": {},
   "outputs": [],
   "source": [
    "Linear_Regression_Results = pd.DataFrame({'Regression Coeff After 1991':Regr_Coeff,\n",
    "                                         'MSE After 1991':Regr_MSE,\n",
    "                                         'Regression Coeff After 1995':Regr_Coeff_After_95,\n",
    "                                         'MSE After 1995':Regr_MSE_After_95},\n",
    "                                        index = list(Med_Sales_by_Gen_and_Yr.columns))\n",
    "Column_Order = ['Regression Coeff After 1991','MSE After 1991','Regression Coeff After 1995',\n",
    "                'MSE After 1995']\n",
    "\n",
    "#printing linear regression results\n",
    "Linear_Regression_Results[Column_Order].head(n=len(list(Med_Sales_by_Gen_and_Yr.columns)))"
   ]
  },
  {
   "cell_type": "code",
   "execution_count": null,
   "metadata": {
    "scrolled": true
   },
   "outputs": [],
   "source": [
    "#total global sales to see how bad my hypothesis was....\n",
    "\n",
    "Med_Sales_by_Yr = pd.pivot_table(data,index=['Year_of_Release'],\n",
    "                     values=['Global_Sales'],aggfunc=np.median)\n",
    "\n",
    "\n",
    "fig = plt.figure(figsize=(13,5))\n",
    "Med_Sales_by_Yr.plot()\n",
    "\n",
    "x_data = np.transpose(np.matrix(Med_Sales_by_Yr.index))\n",
    "y_data = Med_Sales_by_Yr\n",
    "regr = linear_model.LinearRegression()\n",
    "regr.fit(x_data,y_data)\n",
    "\n",
    "plt.plot(x_data,regr.predict(x_data), color='black')\n",
    "\n",
    "txt = 'Coeff: %.3f \\nMSE: %.3f' % (regr.coef_,np.mean((regr.predict(x_data)-y_data)**2))\n",
    "\n",
    "plt.text(2011,0.8*Med_Sales_by_Yr.max(),txt)\n",
    "\n",
    "plt.title('Median Global Sales')\n",
    "plt.xlabel('Year')\n",
    "plt.ylabel('Median Sales (in millions)')"
   ]
  },
  {
   "cell_type": "code",
   "execution_count": null,
   "metadata": {},
   "outputs": [],
   "source": []
  },
  {
   "cell_type": "code",
   "execution_count": null,
   "metadata": {},
   "outputs": [],
   "source": []
  },
  {
   "cell_type": "code",
   "execution_count": null,
   "metadata": {},
   "outputs": [],
   "source": []
  }
 ],
 "metadata": {
  "kernelspec": {
   "display_name": "Python (learn-env)",
   "language": "python",
   "name": "learn-env"
  },
  "language_info": {
   "codemirror_mode": {
    "name": "ipython",
    "version": 3
   },
   "file_extension": ".py",
   "mimetype": "text/x-python",
   "name": "python",
   "nbconvert_exporter": "python",
   "pygments_lexer": "ipython3",
   "version": "3.8.5"
  }
 },
 "nbformat": 4,
 "nbformat_minor": 5
}
